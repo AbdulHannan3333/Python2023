{
 "cells": [
  {
   "attachments": {},
   "cell_type": "markdown",
   "metadata": {},
   "source": [
    "# Best Model Selection"
   ]
  },
  {
   "cell_type": "code",
   "execution_count": 1,
   "metadata": {},
   "outputs": [
    {
     "name": "stdout",
     "output_type": "stream",
     "text": [
      "Accuracy Score:  Logistic Regression : 0.81\n",
      "Accuracy Score:  Random Forest Classifier : 0.79\n",
      "Accuracy Score:  Decision Tree Classifier : 0.77\n",
      "Accuracy Score:  K Neighbors Classifier : 0.69\n",
      "Accuracy Score:  SVC : 0.66\n"
     ]
    }
   ],
   "source": [
    "# Import Libraries\n",
    "import pandas as pd\n",
    "import seaborn as sns\n",
    "import numpy as np\n",
    "import matplotlib.pyplot as plt\n",
    "\n",
    "#(5 , 6 Models k andar sy aik akela best model kesy select krna hain? )\n",
    "\n",
    "# ab ham titanic ka dataset downloand kare gaye\n",
    "\n",
    "df = sns.load_dataset('titanic')\n",
    "\n",
    "# data set donwlad krne k bad data ko X aur Y may Devide/Cut kiya, \n",
    "# k kia batana hain aur kis ki base py batna hain?\n",
    "# X ka mtalb kis ki base par mtlab input features\n",
    "# Y ka mtlab hain k ham ny lables k andar divide kiya\n",
    "\n",
    "X = df[['age','pclass','sex','sibsp','parch','fare']]\n",
    "y = df['survived']\n",
    "\n",
    "# sex k andar 2 values thi 'Male'aur 'Female' aik ko assign kiya 0 aur dosare ko 1,\n",
    "# aur isko bolty hain label Encoding\n",
    "X= pd.get_dummies(X, columns=['sex'])\n",
    "\n",
    "# ab ham missing values check kare gye\n",
    "X.isnull().sum()*100/ len(X)\n",
    "\n",
    "# age coloumn ki missing values ko kthm krn k liye \n",
    "X.age.fillna(value=X['age'].mean(), inplace=True)\n",
    "\n",
    "# models ko import krna h \n",
    "from sklearn.linear_model import LogisticRegression\n",
    "from sklearn.svm import SVC\n",
    "from sklearn.tree import DecisionTreeClassifier\n",
    "from sklearn.ensemble import RandomForestClassifier\n",
    "from sklearn.neighbors import KNeighborsClassifier\n",
    "\n",
    "\n",
    "# metrics kon konsy daikhny hain?\n",
    "from sklearn.metrics import accuracy_score\n",
    "\n",
    "\n",
    "\n",
    "\n",
    "#train test split ham ny q kiya?\n",
    "#data ko half half krny k liye taa k ham kia kare accuracy aur metrics ki base pe check kar saky\n",
    "from sklearn.model_selection import train_test_split\n",
    "X_train, X_test, y_tain, y_test = train_test_split(X,y,test_size=0.2, random_state=42) \n",
    "\n",
    "\n",
    "#ab ham imported ko list may stro kare gaya\n",
    "models = [LogisticRegression(),SVC(),DecisionTreeClassifier(),\n",
    "             RandomForestClassifier(),KNeighborsClassifier()]\n",
    "models_names = ['Logistic Regression','SVC','Decision Tree Classifier',\n",
    "             'Random Forest Classifier','K Neighbors Classifier']\n",
    "\n",
    "# ab ham ny aik khali list banani hain\n",
    "models_scores = []\n",
    "\n",
    "for model, model_name in zip(models, models_names):\n",
    "    model.fit(X_train,y_tain)\n",
    "    y_pred = model.predict(X_test)\n",
    "    accuracy = accuracy_score(y_test,y_pred)\n",
    "    models_scores.append([model_name,accuracy])\n",
    "\n",
    "sorted_models = sorted(models_scores, key = lambda x : x[1], reverse=True)\n",
    "for model in sorted_models:\n",
    "    print(\"Accuracy Score: \", f'{model[0]} : {model[1]:.2f}')\n"
   ]
  },
  {
   "attachments": {},
   "cell_type": "markdown",
   "metadata": {},
   "source": [
    "# Precision Score"
   ]
  },
  {
   "cell_type": "code",
   "execution_count": 5,
   "metadata": {},
   "outputs": [
    {
     "name": "stdout",
     "output_type": "stream",
     "text": [
      "Precision Score:  Logistic Regression : 0.80\n",
      "Precision Score:  Random Forest Classifier : 0.77\n",
      "Precision Score:  SVC : 0.76\n",
      "Precision Score:  Decision Tree Classifier : 0.71\n",
      "Precision Score:  K Neighbors Classifier : 0.66\n"
     ]
    }
   ],
   "source": [
    "#Metrics\n",
    "from sklearn.metrics import precision_score\n",
    "\n",
    "# models ko import krna h \n",
    "from sklearn.linear_model import LogisticRegression\n",
    "from sklearn.svm import SVC\n",
    "from sklearn.tree import DecisionTreeClassifier\n",
    "from sklearn.ensemble import RandomForestClassifier\n",
    "from sklearn.neighbors import KNeighborsClassifier\n",
    "\n",
    "# ab data ko do hiso may divided krna\n",
    "from sklearn.model_selection import train_test_split\n",
    "X_train, X_test, y_tain, y_test = train_test_split(X,y,test_size=0.2, random_state=42) \n",
    "\n",
    "\n",
    "#ab ham imported ko list may stro kare gaya\n",
    "models = [LogisticRegression(),SVC(),DecisionTreeClassifier(),\n",
    "             RandomForestClassifier(),KNeighborsClassifier()]\n",
    "models_names = ['Logistic Regression','SVC','Decision Tree Classifier',\n",
    "             'Random Forest Classifier','K Neighbors Classifier']\n",
    "\n",
    "# ab ham ny aik khali list banani hain\n",
    "models_scores = []\n",
    "\n",
    "for model, model_name in zip(models, models_names):\n",
    "    model.fit(X_train,y_tain)\n",
    "    y_pred = model.predict(X_test)\n",
    "    Precision = precision_score(y_test,y_pred)\n",
    "    models_scores.append([model_name,Precision])\n",
    "\n",
    "sorted_models = sorted(models_scores, key = lambda x : x[1], reverse=True)\n",
    "for model in sorted_models:\n",
    "    print(\"Precision Score: \", f'{model[0]} : {model[1]:.2f}')\n"
   ]
  },
  {
   "attachments": {},
   "cell_type": "markdown",
   "metadata": {},
   "source": [
    "# Recall Score"
   ]
  },
  {
   "cell_type": "code",
   "execution_count": 6,
   "metadata": {},
   "outputs": [
    {
     "name": "stdout",
     "output_type": "stream",
     "text": [
      "Recall Score:  Logistic Regression : 0.72\n",
      "Recall Score:  Random Forest Classifier : 0.70\n",
      "Recall Score:  Decision Tree Classifier : 0.69\n",
      "Recall Score:  K Neighbors Classifier : 0.54\n",
      "Recall Score:  SVC : 0.26\n"
     ]
    }
   ],
   "source": [
    "# metrics\n",
    "from sklearn.metrics import recall_score\n",
    "# models ko import krna h \n",
    "from sklearn.linear_model import LogisticRegression\n",
    "from sklearn.svm import SVC\n",
    "from sklearn.tree import DecisionTreeClassifier\n",
    "from sklearn.ensemble import RandomForestClassifier\n",
    "from sklearn.neighbors import KNeighborsClassifier\n",
    "\n",
    "# ab data ko do hiso may divided krna\n",
    "from sklearn.model_selection import train_test_split\n",
    "X_train, X_test, y_tain, y_test = train_test_split(X,y,test_size=0.2, random_state=42) \n",
    "\n",
    "\n",
    "#ab ham imported ko list may stro kare gaya\n",
    "models = [LogisticRegression(),SVC(),DecisionTreeClassifier(),\n",
    "             RandomForestClassifier(),KNeighborsClassifier()]\n",
    "models_names = ['Logistic Regression','SVC','Decision Tree Classifier',\n",
    "             'Random Forest Classifier','K Neighbors Classifier']\n",
    "\n",
    "# ab ham ny aik khali list banani hain\n",
    "models_scores = []\n",
    "\n",
    "for model, model_name in zip(models, models_names):\n",
    "    model.fit(X_train,y_tain)\n",
    "    y_pred = model.predict(X_test)\n",
    "    Recall = recall_score (y_test,y_pred)\n",
    "    models_scores.append([model_name,Recall])\n",
    "\n",
    "sorted_models = sorted(models_scores, key = lambda x : x[1], reverse=True)\n",
    "for model in sorted_models:\n",
    "    print(\"Recall Score: \", f'{model[0]} : {model[1]:.2f}')"
   ]
  },
  {
   "attachments": {},
   "cell_type": "markdown",
   "metadata": {},
   "source": [
    "# F1 Score"
   ]
  },
  {
   "cell_type": "code",
   "execution_count": 8,
   "metadata": {},
   "outputs": [
    {
     "name": "stdout",
     "output_type": "stream",
     "text": [
      "F1 Score:  Logistic Regression : 0.76\n",
      "F1 Score:  Random Forest Classifier : 0.75\n",
      "F1 Score:  Decision Tree Classifier : 0.70\n",
      "F1 Score:  K Neighbors Classifier : 0.59\n",
      "F1 Score:  SVC : 0.38\n"
     ]
    }
   ],
   "source": [
    "# Metrics \n",
    "from sklearn.metrics import f1_score\n",
    "# models ko import krna h \n",
    "from sklearn.linear_model import LogisticRegression\n",
    "from sklearn.svm import SVC\n",
    "from sklearn.tree import DecisionTreeClassifier\n",
    "from sklearn.ensemble import RandomForestClassifier\n",
    "from sklearn.neighbors import KNeighborsClassifier\n",
    "\n",
    "# ab data ko do hiso may divided krna\n",
    "from sklearn.model_selection import train_test_split\n",
    "X_train, X_test, y_tain, y_test = train_test_split(X,y,test_size=0.2, random_state=42) \n",
    "\n",
    "\n",
    "#ab ham imported ko list may stro kare gaya\n",
    "models = [LogisticRegression(),SVC(),DecisionTreeClassifier(),\n",
    "             RandomForestClassifier(),KNeighborsClassifier()]\n",
    "models_names = ['Logistic Regression','SVC','Decision Tree Classifier',\n",
    "             'Random Forest Classifier','K Neighbors Classifier']\n",
    "\n",
    "# ab ham ny aik khali list banani hain\n",
    "models_scores = []\n",
    "\n",
    "for model, model_name in zip(models, models_names):\n",
    "    model.fit(X_train,y_tain)\n",
    "    y_pred = model.predict(X_test)\n",
    "    F1 = f1_score(y_test,y_pred)\n",
    "    models_scores.append([model_name,F1])\n",
    "\n",
    "sorted_models = sorted(models_scores, key = lambda x : x[1], reverse=True)\n",
    "for model in sorted_models:\n",
    "    print(\"F1 Score: \", f'{model[0]} : {model[1]:.2f}')"
   ]
  }
 ],
 "metadata": {
  "kernelspec": {
   "display_name": "Python 3",
   "language": "python",
   "name": "python3"
  },
  "language_info": {
   "codemirror_mode": {
    "name": "ipython",
    "version": 3
   },
   "file_extension": ".py",
   "mimetype": "text/x-python",
   "name": "python",
   "nbconvert_exporter": "python",
   "pygments_lexer": "ipython3",
   "version": "3.11.2"
  },
  "orig_nbformat": 4
 },
 "nbformat": 4,
 "nbformat_minor": 2
}
